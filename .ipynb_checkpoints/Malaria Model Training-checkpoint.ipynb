{
 "cells": [
  {
   "cell_type": "code",
   "execution_count": 9,
   "id": "9ccdaf42-a510-4a75-beef-354b4ca364bc",
   "metadata": {},
   "outputs": [],
   "source": [
    "import os\n",
    "import numpy as np\n",
    "from PIL import Image\n",
    "from sklearn.model_selection import train_test_split\n",
    "import pandas as pd\n",
    "import tensorflow as tf\n",
    "from tensorflow.keras.models import Sequential\n",
    "from tensorflow.keras.layers import Dense,Conv2D,MaxPooling2D,Flatten"
   ]
  },
  {
   "cell_type": "code",
   "execution_count": 10,
   "id": "957be3fc-7c93-4ccd-b901-8579220e5649",
   "metadata": {},
   "outputs": [
    {
     "name": "stdout",
     "output_type": "stream",
     "text": [
      "cell_images/uninfected\\C12NThinF_IMG_20150614_124212_cell_161.png. SomeError occured/Unidentified Image\n",
      "cell_images/uninfected\\C205ThinF_IMG_20151106_151622_cell_46.png. SomeError occured/Unidentified Image\n"
     ]
    }
   ],
   "source": [
    "data_dir = \"cell_images/\"\n",
    "class_names = [\"parasitized\", \"uninfected\"]\n",
    "image_size = (33, 33)\n",
    "\n",
    "images = []\n",
    "labels = []\n",
    "\n",
    "for class_name in class_names:\n",
    "    class_path = os.path.join(data_dir, class_name)\n",
    "    for image_file in os.listdir(class_path):\n",
    "        if image_file.endswith(\".png\"):\n",
    "            image_path = os.path.join(class_path, image_file)\n",
    "            try:\n",
    "                image = Image.open(image_path).resize(image_size)\n",
    "                images.append(np.array(image))\n",
    "                labels.append(class_names.index(class_name))\n",
    "            except:\n",
    "                print(image_path+\". SomeError occured/Unidentified Image\")\n"
   ]
  },
  {
   "cell_type": "code",
   "execution_count": 11,
   "id": "03764154-7aa8-4c81-896c-b3b036751ee2",
   "metadata": {},
   "outputs": [],
   "source": [
    "#converting images and labels lists to numpy array because train_test_split method supports arrays\n",
    "images = np.array(images)\n",
    "labels = np.array(labels)\n",
    "\n",
    "train_images, test_images, train_labels, test_labels = train_test_split(images, labels, test_size=0.2, random_state=42)"
   ]
  },
  {
   "cell_type": "code",
   "execution_count": null,
   "id": "b6682bd0-8726-4f95-a05d-74fa01cfe874",
   "metadata": {},
   "outputs": [],
   "source": [
    "model=Sequential()\n",
    "model.add(Conv2D(32,(3,3),activation='relu',input_shape=(33,33,3)))\n",
    "model.add(Conv2D(64,(3,3),activation='relu')) \n",
    "model.add(MaxPooling2D(pool_size=(2,2)))\n",
    "model.add(Flatten())\n",
    "model.add(Dense(100,activation='relu'))\n",
    "model.add(Dense(2,activation='softmax'))\n",
    "model.compile(loss=tf.keras.losses.SparseCategoricalCrossentropy(from_logits=True),optimizer='adam',metrics='accuracy')\n",
    "history=model.fit(train_images,train_labels,batch_size = 10,epochs=5,verbose=1,validation_data=(test_images,test_labels))\n",
    "model.save(\"Malaria_Detector.keras\")"
   ]
  }
 ],
 "metadata": {
  "kernelspec": {
   "display_name": "Python 3 (ipykernel)",
   "language": "python",
   "name": "python3"
  },
  "language_info": {
   "codemirror_mode": {
    "name": "ipython",
    "version": 3
   },
   "file_extension": ".py",
   "mimetype": "text/x-python",
   "name": "python",
   "nbconvert_exporter": "python",
   "pygments_lexer": "ipython3",
   "version": "3.10.5"
  }
 },
 "nbformat": 4,
 "nbformat_minor": 5
}
