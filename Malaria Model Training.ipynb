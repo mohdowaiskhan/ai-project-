{
 "cells": [
  {
   "cell_type": "code",
   "execution_count": 1,
   "id": "9ccdaf42-a510-4a75-beef-354b4ca364bc",
   "metadata": {},
   "outputs": [],
   "source": [
    "import os\n",
    "import numpy as np\n",
    "from PIL import Image\n",
    "from sklearn.model_selection import train_test_split\n",
    "import tensorflow as tf\n",
    "from tensorflow.keras.models import Sequential\n",
    "from tensorflow.keras.layers import Dense,Conv2D,MaxPooling2D,Flatten"
   ]
  },
  {
   "cell_type": "code",
   "execution_count": 2,
   "id": "957be3fc-7c93-4ccd-b901-8579220e5649",
   "metadata": {},
   "outputs": [],
   "source": [
    "data_dir = \"cell_images/\"\n",
    "class_names = [\"parasitized\", \"uninfected\"]\n",
    "image_size = (33, 33)\n",
    "\n",
    "images = []\n",
    "labels = []\n",
    "\n",
    "for class_name in class_names:\n",
    "    class_path = os.path.join(data_dir, class_name)\n",
    "    for image_file in os.listdir(class_path):\n",
    "        if image_file.endswith(\".png\"):\n",
    "            image_path = os.path.join(class_path, image_file)\n",
    "            try:\n",
    "                image = Image.open(image_path).resize(image_size)\n",
    "                images.append(np.array(image))\n",
    "                labels.append(class_names.index(class_name))\n",
    "            except:\n",
    "                print(image_path+\". SomeError occured/Unidentified Image\")\n"
   ]
  },
  {
   "cell_type": "code",
   "execution_count": 3,
   "id": "03764154-7aa8-4c81-896c-b3b036751ee2",
   "metadata": {},
   "outputs": [],
   "source": [
    "#converting images and labels lists to numpy array because train_test_split method supports arrays\n",
    "images = np.array(images)\n",
    "labels = np.array(labels)\n",
    "\n",
    "train_images, test_images, train_labels, test_labels = train_test_split(images, labels, test_size=0.2, random_state=42)"
   ]
  },
  {
   "cell_type": "code",
   "execution_count": 6,
   "id": "b6682bd0-8726-4f95-a05d-74fa01cfe874",
   "metadata": {},
   "outputs": [
    {
     "name": "stdout",
     "output_type": "stream",
     "text": [
      "Epoch 1/5\n"
     ]
    },
    {
     "name": "stderr",
     "output_type": "stream",
     "text": [
      "c:\\Users\\Asif Hussain\\AppData\\Local\\Programs\\Python\\Python312\\Lib\\site-packages\\keras\\src\\backend\\tensorflow\\nn.py:635: UserWarning: \"`sparse_categorical_crossentropy` received `from_logits=True`, but the `output` argument was produced by a Softmax activation and thus does not represent logits. Was this intended?\n",
      "  output, from_logits = _get_logits(\n"
     ]
    },
    {
     "name": "stdout",
     "output_type": "stream",
     "text": [
      "\u001b[1m2205/2205\u001b[0m \u001b[32m━━━━━━━━━━━━━━━━━━━━\u001b[0m\u001b[37m\u001b[0m \u001b[1m21s\u001b[0m 9ms/step - accuracy: 0.6287 - loss: 3.3062 - val_accuracy: 0.6798 - val_loss: 0.7535\n",
      "Epoch 2/5\n",
      "\u001b[1m2205/2205\u001b[0m \u001b[32m━━━━━━━━━━━━━━━━━━━━\u001b[0m\u001b[37m\u001b[0m \u001b[1m21s\u001b[0m 10ms/step - accuracy: 0.9219 - loss: 0.2287 - val_accuracy: 0.9452 - val_loss: 0.1641\n",
      "Epoch 3/5\n",
      "\u001b[1m2205/2205\u001b[0m \u001b[32m━━━━━━━━━━━━━━━━━━━━\u001b[0m\u001b[37m\u001b[0m \u001b[1m20s\u001b[0m 9ms/step - accuracy: 0.9378 - loss: 0.1892 - val_accuracy: 0.9169 - val_loss: 0.3213\n",
      "Epoch 4/5\n",
      "\u001b[1m2205/2205\u001b[0m \u001b[32m━━━━━━━━━━━━━━━━━━━━\u001b[0m\u001b[37m\u001b[0m \u001b[1m21s\u001b[0m 9ms/step - accuracy: 0.9362 - loss: 0.1943 - val_accuracy: 0.9176 - val_loss: 0.2245\n",
      "Epoch 5/5\n",
      "\u001b[1m2205/2205\u001b[0m \u001b[32m━━━━━━━━━━━━━━━━━━━━\u001b[0m\u001b[37m\u001b[0m \u001b[1m19s\u001b[0m 9ms/step - accuracy: 0.9396 - loss: 0.1870 - val_accuracy: 0.9401 - val_loss: 0.1827\n"
     ]
    }
   ],
   "source": [
    "model=Sequential([Conv2D(32,(3,3),activation='relu',input_shape=(33,33,3)),\n",
    "                 Conv2D(64,(3,3),activation='relu'),\n",
    "                  MaxPooling2D(pool_size=(2,2)),\n",
    "                  Dense(100,activation='relu'),\n",
    "Flatten(),\n",
    "Dense(2,activation='softmax'),\n",
    "\n",
    "                    ])\n",
    "\n",
    "model.compile(\n",
    "    loss=tf.keras.losses.SparseCategoricalCrossentropy(from_logits=True),\n",
    "    optimizer='adam',\n",
    "    metrics=['accuracy']  # Wrap the 'accuracy' in a list\n",
    ")\n",
    "history=model.fit(train_images,train_labels,batch_size = 10,epochs=5,verbose=1,validation_data=(test_images,test_labels))\n",
    "model.save(\"Malaria_Detector_advance.keras\")"
   ]
  },
  {
   "cell_type": "code",
   "execution_count": null,
   "id": "83f73505",
   "metadata": {},
   "outputs": [],
   "source": []
  }
 ],
 "metadata": {
  "kernelspec": {
   "display_name": "Python 3 (ipykernel)",
   "language": "python",
   "name": "python3"
  },
  "language_info": {
   "codemirror_mode": {
    "name": "ipython",
    "version": 3
   },
   "file_extension": ".py",
   "mimetype": "text/x-python",
   "name": "python",
   "nbconvert_exporter": "python",
   "pygments_lexer": "ipython3",
   "version": "3.12.3"
  }
 },
 "nbformat": 4,
 "nbformat_minor": 5
}
